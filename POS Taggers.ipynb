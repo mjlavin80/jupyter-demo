{
 "cells": [
  {
   "cell_type": "code",
   "execution_count": 10,
   "metadata": {
    "collapsed": false,
    "scrolled": true
   },
   "outputs": [
    {
     "data": {
      "text/plain": [
       "([('The', 'DT'),\n",
       "  ('rain', 'NN'),\n",
       "  ('in', 'IN'),\n",
       "  ('Spain', 'NNP'),\n",
       "  ('ca', 'MD'),\n",
       "  (\"n't\", 'RB'),\n",
       "  ('fall', 'VB'),\n",
       "  ('mainly', 'RB'),\n",
       "  ('on', 'IN'),\n",
       "  ('the', 'DT'),\n",
       "  ('plain', 'NN')],\n",
       " [(u'The', u'DT'),\n",
       "  (u'rain', u'NN'),\n",
       "  (u'in', u'IN'),\n",
       "  (u'Spain', u'NNP'),\n",
       "  (u'ca', u'MD'),\n",
       "  (u\"n't\", u'RB'),\n",
       "  (u'fall', u'VB'),\n",
       "  (u'mainly', u'RB'),\n",
       "  (u'on', u'IN'),\n",
       "  (u'the', u'DT'),\n",
       "  (u'plain', u'NN')])"
      ]
     },
     "execution_count": 10,
     "metadata": {},
     "output_type": "execute_result"
    }
   ],
   "source": [
    "import nltk\n",
    "from nltk.tag.stanford import StanfordPOSTagger\n",
    "st = StanfordPOSTagger('./postagger/models/english-bidirectional-distsim.tagger', './postagger/stanford-postagger.jar')\n",
    "a = \"The rain in Spain falls mainly on the plain\".split()\n",
    "b = nltk.word_tokenize(\"The rain in Spain can't fall mainly on the plain\")\n",
    "stan = st.tag(b)\n",
    "npos = nltk.pos_tag(b)\n",
    "npos, stan"
   ]
  },
  {
   "cell_type": "markdown",
   "metadata": {},
   "source": [
    "# Hello"
   ]
  },
  {
   "cell_type": "code",
   "execution_count": null,
   "metadata": {
    "collapsed": true
   },
   "outputs": [],
   "source": []
  }
 ],
 "metadata": {
  "kernelspec": {
   "display_name": "Python 2",
   "language": "python",
   "name": "python2"
  },
  "language_info": {
   "codemirror_mode": {
    "name": "ipython",
    "version": 2
   },
   "file_extension": ".py",
   "mimetype": "text/x-python",
   "name": "python",
   "nbconvert_exporter": "python",
   "pygments_lexer": "ipython2",
   "version": "2.7.10"
  }
 },
 "nbformat": 4,
 "nbformat_minor": 0
}
